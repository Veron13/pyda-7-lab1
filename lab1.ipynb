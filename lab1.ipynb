{
 "cells": [
  {
   "cell_type": "markdown",
   "metadata": {},
   "source": [
    "## Задание № 1"
   ]
  },
  {
   "cell_type": "markdown",
   "metadata": {},
   "source": [
    "1. Посчитайте, сколько в строке символов (исключая пробелы).\n",
    "2. Посчитайте, сколько в строке слов.\n",
    "3. Напишите функцию, которая будет принимать в качестве аргумента букву и выводить все слова из строки, заканчивающиеся на эту букву (например, “s”).\n",
    "4. Не обязательно: Напишите функцию, которая будет принимать в качестве аргумента букву и выводить все слова из строки, начинающиеся на эту букву (например, “m”)."
   ]
  },
  {
   "cell_type": "code",
   "execution_count": 60,
   "metadata": {},
   "outputs": [],
   "source": [
    "string_01 = \"Mama, just killed a man, put a gun against his head, pulled my trigger, now he's dead. Mama, life had just begun, but now I've gone and thrown it all away. Mama, ooh (any way the wind blows), didn't mean to make you cry. If I'm not back again this time tomorrow carry on, carry on as if nothing really matters.\""
   ]
  },
  {
   "cell_type": "code",
   "execution_count": 10,
   "metadata": {},
   "outputs": [
    {
     "name": "stdout",
     "output_type": "stream",
     "text": [
      "simbols: 231\n",
      "words: 65\n"
     ]
    }
   ],
   "source": [
    "import re\n",
    "simbols = re.findall('[\\w]?', string_01)\n",
    "number_simbols = 0\n",
    "for x in simbols:\n",
    "    if x != '':\n",
    "        number_simbols += 1\n",
    "print('simbols: '+str(number_simbols))\n",
    "words = re.findall('[\\w]*', string_01)\n",
    "number_words = 0\n",
    "for x in words:\n",
    "    if x != '':\n",
    "        number_words += 1\n",
    "print('words: '+str(number_words))"
   ]
  },
  {
   "cell_type": "code",
   "execution_count": 58,
   "metadata": {},
   "outputs": [],
   "source": [
    "def for2():\n",
    "    wow = input('Введите букву: ')\n",
    "    if len(wow) == 1:\n",
    "        import re\n",
    "        wow_too = wow.upper()\n",
    "        stroke = re.split('[\\.?]', string_01)\n",
    "        for x in stroke:\n",
    "            words_stroke = re.findall('[\\w]*', x)\n",
    "            for y in words_stroke:\n",
    "                if y != '':\n",
    "                    simbols_stroke = re.findall('[\\w]?', y)\n",
    "                    length = len(simbols_stroke)-1\n",
    "                    if simbols_stroke[length-1] == wow or simbols_stroke[length-1] == wow_too:\n",
    "                        print(y)"
   ]
  },
  {
   "cell_type": "code",
   "execution_count": 59,
   "metadata": {},
   "outputs": [
    {
     "name": "stdout",
     "output_type": "stream",
     "text": [
      "Введите букву: a\n",
      "Mama\n",
      "a\n",
      "a\n",
      "Mama\n",
      "Mama\n"
     ]
    }
   ],
   "source": [
    "for2()"
   ]
  },
  {
   "cell_type": "code",
   "execution_count": 56,
   "metadata": {},
   "outputs": [],
   "source": [
    "def for22():\n",
    "    wow = input('Введите букву: ')\n",
    "    if len(wow) == 1:\n",
    "        wow_too = wow.upper()\n",
    "        import re\n",
    "        stroke = re.split('[\\.?]', string_01)\n",
    "        for x in stroke:\n",
    "            words_stroke = re.findall('[\\w]*', x)\n",
    "            for y in words_stroke:\n",
    "                if y != '':\n",
    "                    simbols_stroke = re.findall('[\\w]?', y)\n",
    "                    if simbols_stroke[0] == wow or simbols_stroke[0] == wow_too:\n",
    "                        print(y)"
   ]
  },
  {
   "cell_type": "code",
   "execution_count": 57,
   "metadata": {},
   "outputs": [
    {
     "name": "stdout",
     "output_type": "stream",
     "text": [
      "Введите букву: m\n",
      "Mama\n",
      "man\n",
      "my\n",
      "Mama\n",
      "Mama\n",
      "mean\n",
      "make\n",
      "m\n",
      "matters\n"
     ]
    }
   ],
   "source": [
    "for22()"
   ]
  },
  {
   "cell_type": "markdown",
   "metadata": {},
   "source": [
    "## Задание № 2"
   ]
  },
  {
   "cell_type": "markdown",
   "metadata": {},
   "source": [
    "Напишите код, который будет генерировать случайную последовательность из 6 цифр, одна из которых должна быть 3. Позиция цифры 3 должна определяться случайным образом. Результат должен быть строкой. Например: \"456309\" или \"330127\"."
   ]
  },
  {
   "cell_type": "code",
   "execution_count": 228,
   "metadata": {},
   "outputs": [],
   "source": [
    "def ran():\n",
    "    import random\n",
    "    random_numbers = []\n",
    "    for q in range(0,6):\n",
    "        random_number = str(random.randint(1, 9)) \n",
    "        random_numbers.append(random_number)\n",
    "    if '3' not in random_numbers:\n",
    "        random_n = random.randint(0, 5)\n",
    "        random_numbers[random_n] = '3'\n",
    "    string_numbers = ''.join(random_numbers)\n",
    "    print(string_numbers)"
   ]
  },
  {
   "cell_type": "code",
   "execution_count": 255,
   "metadata": {},
   "outputs": [
    {
     "name": "stdout",
     "output_type": "stream",
     "text": [
      "968356\n"
     ]
    }
   ],
   "source": [
    "ran()"
   ]
  },
  {
   "cell_type": "markdown",
   "metadata": {},
   "source": [
    "## Задание № 3"
   ]
  },
  {
   "cell_type": "markdown",
   "metadata": {},
   "source": [
    "Напишите алгоритм, который выводит сумму элементов списка, которые больше 10, но меньше 100."
   ]
  },
  {
   "cell_type": "code",
   "execution_count": 256,
   "metadata": {},
   "outputs": [],
   "source": [
    "list_01 = [1, 1, 2, 3, 5, 8, 13, 21, 34, 55, 89, 144, 233, 377, 610]"
   ]
  },
  {
   "cell_type": "code",
   "execution_count": 257,
   "metadata": {},
   "outputs": [
    {
     "data": {
      "text/plain": [
       "212"
      ]
     },
     "execution_count": 257,
     "metadata": {},
     "output_type": "execute_result"
    }
   ],
   "source": [
    "summa = 0\n",
    "for w in list_01:\n",
    "    if w > 10 and w < 100:\n",
    "        summa = summa + w\n",
    "summa"
   ]
  },
  {
   "cell_type": "markdown",
   "metadata": {},
   "source": [
    "## Задание № 4"
   ]
  },
  {
   "cell_type": "markdown",
   "metadata": {},
   "source": [
    "1. Преобразуйте данные таким образом, чтобы они были представлены в виде словаря, в котором ключами являются номера студентов, а значениями — список из других данных о студентах.\n",
    "2. Напишите функцию, которая принимает в качестве аргумента номер студента и новый номер группы и позволяет изменить номер группы этого студента на новый.\n",
    "3. Напишите функцию, которая принимает номер группы и выводит список (фамилии, имена, отчества) всех студентов этой группы."
   ]
  },
  {
   "cell_type": "code",
   "execution_count": 1,
   "metadata": {},
   "outputs": [],
   "source": [
    "students = [     [\"0001\", \"Антонов\", \"Антон\", \"Игоревич\", \"20.08.2009\", \"БСТ161\"],     [\"1102\", \"Богов\", \"Артем\", \"Игоревич\", \"25.01.2010\", \"БСТ162\"], [\"0333\", \"Глаголева\", \"Анастасия\", \"Николаевна\", \"11.07.2009\", \"БСТ163\"],     [\"4004\", \"Степанова\", \"Наталья\", \"Александровна\", \"13.02.2008\", \"БСТ161\"],     [\"0045\", \"Боков\", \"Игорь\", \"Харитонович\", \"02.06.2009\", \"БСТ161\"],     [\"0096\", \"Васильков\", \"Валентин\", \"Сергеевич\", \"20.03.2009\", \"БСТ164\"],     [\"0607\", \"Сиропова\", \"Виолетта\", \"Эдуардовна\", \"28.05.2010\", \"БСТ162\"],     [\"0309\", \"Шафутинский\", \"Михаил\", \"Михайлович\", \"03.09.2007\", \"БСТ163\"]             ]"
   ]
  },
  {
   "cell_type": "code",
   "execution_count": 2,
   "metadata": {},
   "outputs": [
    {
     "data": {
      "text/plain": [
       "{'0001': {'20.08.2009', 'Антон', 'Антонов', 'БСТ161', 'Игоревич'},\n",
       " '1102': {'25.01.2010', 'Артем', 'БСТ162', 'Богов', 'Игоревич'},\n",
       " '0333': {'11.07.2009', 'Анастасия', 'БСТ163', 'Глаголева', 'Николаевна'},\n",
       " '4004': {'13.02.2008', 'Александровна', 'БСТ161', 'Наталья', 'Степанова'},\n",
       " '0045': {'02.06.2009', 'БСТ161', 'Боков', 'Игорь', 'Харитонович'},\n",
       " '0096': {'20.03.2009', 'БСТ164', 'Валентин', 'Васильков', 'Сергеевич'},\n",
       " '0607': {'28.05.2010', 'БСТ162', 'Виолетта', 'Сиропова', 'Эдуардовна'},\n",
       " '0309': {'03.09.2007', 'БСТ163', 'Михаил', 'Михайлович', 'Шафутинский'}}"
      ]
     },
     "execution_count": 2,
     "metadata": {},
     "output_type": "execute_result"
    }
   ],
   "source": [
    "dict_students = {}\n",
    "for stud in students:\n",
    "    dict_students[stud[0]] = {stud[1],stud[2],stud[3],stud[4],stud[5]}\n",
    "dict_students"
   ]
  },
  {
   "cell_type": "code",
   "execution_count": 18,
   "metadata": {},
   "outputs": [],
   "source": [
    "def edit_dict():\n",
    "    import re\n",
    "    stop = 0\n",
    "    while stop == 0:\n",
    "        strnumber = input('Введите номер студента(пример - 0001): ')\n",
    "        if strnumber in dict_students.keys():\n",
    "            stop = 1\n",
    "        else:\n",
    "            print('Такого номера нет')\n",
    "    stop = 0\n",
    "    while stop == 0:\n",
    "        try:\n",
    "            strnewnumber = input('Введите новый номер группы(пример - БСТ161): ')\n",
    "            if re.findall('[Б]{1}[С]{1}[Т]{1}\\d{3}', strnewnumber):\n",
    "                stop = 1\n",
    "        except:\n",
    "            print('Неверный формат группы')\n",
    "    number_student = dict_students[strnumber]\n",
    "    list_number = list(number_student)\n",
    "    for BST in list_number:\n",
    "        if re.findall('[Б]{1}[С]{1}[Т]{1}', BST):\n",
    "            str_number = ','.join(list_number)\n",
    "            new_str_number = re.sub(BST, strnewnumber, str_number)\n",
    "            n = new_str_number.split(',')\n",
    "    dict_students[strnumber] = n\n",
    "    print(dict_students)"
   ]
  },
  {
   "cell_type": "code",
   "execution_count": 19,
   "metadata": {},
   "outputs": [
    {
     "name": "stdout",
     "output_type": "stream",
     "text": [
      "Введите номер студента(пример - 0001): 0001\n",
      "Введите новый номер группы(пример - БСТ161): БСТ228\n",
      "{'0001': ['Антон', 'Антонов', 'БСТ228', '20.08.2009', 'Игоревич'], '1102': {'25.01.2010', 'Богов', 'Артем', 'БСТ162', 'Игоревич'}, '0333': {'11.07.2009', 'Глаголева', 'Анастасия', 'БСТ163', 'Николаевна'}, '4004': {'Степанова', 'Александровна', 'Наталья', 'БСТ161', '13.02.2008'}, '0045': {'Боков', 'Харитонович', 'БСТ161', 'Игорь', '02.06.2009'}, '0096': {'20.03.2009', 'Васильков', 'Сергеевич', 'БСТ164', 'Валентин'}, '0607': {'Сиропова', 'Эдуардовна', '28.05.2010', 'Виолетта', 'БСТ162'}, '0309': {'03.09.2007', 'Михаил', 'БСТ163', 'Шафутинский', 'Михайлович'}}\n"
     ]
    }
   ],
   "source": [
    "edit_dict()"
   ]
  },
  {
   "cell_type": "code",
   "execution_count": 27,
   "metadata": {},
   "outputs": [],
   "source": [
    "def list_FIO ():\n",
    "    import re\n",
    "    from datetime import datetime\n",
    "    stop = 0\n",
    "    while stop == 0:\n",
    "        try:\n",
    "            strnewnumber = input('Введите номер группы(пример - БСТ161): ')\n",
    "            if re.findall('[Б]{1}[С]{1}[Т]{1}\\d{3}', strnewnumber):\n",
    "                stop = 1\n",
    "        except:\n",
    "            print('Неверный формат группы')\n",
    "    happy = '\\d'\n",
    "    FIO = []\n",
    "    for u in dict_students.values():\n",
    "        if strnewnumber in u:\n",
    "            u = list(u)\n",
    "            u.remove(strnewnumber)\n",
    "            for uu in u:\n",
    "                if re.findall(happy,uu):\n",
    "                    u.remove(uu)\n",
    "            FIO.append(u)\n",
    "            stop += 1\n",
    "    if stop == 1:\n",
    "        print('Такой группы нет')\n",
    "    else: \n",
    "        print(FIO)"
   ]
  },
  {
   "cell_type": "code",
   "execution_count": 30,
   "metadata": {},
   "outputs": [
    {
     "name": "stdout",
     "output_type": "stream",
     "text": [
      "Введите номер группы(пример - БСТ161): БСТ161\n",
      "[['Антон', 'Игоревич', 'Антонов'], ['Александровна', 'Степанова', 'Наталья'], ['Харитонович', 'Боков', 'Игорь']]\n"
     ]
    }
   ],
   "source": [
    "list_FIO()"
   ]
  },
  {
   "cell_type": "markdown",
   "metadata": {},
   "source": [
    "## Задание № 5"
   ]
  },
  {
   "cell_type": "markdown",
   "metadata": {},
   "source": [
    "1. Выведите результат сложения всех элементов матрицы.\n",
    "2. Напишите алгоритм вычисления максимума из сумм элементов каждого столбца"
   ]
  },
  {
   "cell_type": "code",
   "execution_count": 6,
   "metadata": {},
   "outputs": [],
   "source": [
    "matrix = [ [0, 1, 2, 4, 8], [6, 2, 2, 1, 9], [3, 3, 3, 3, 3], [4, 6, 7, 1, 2], [5, 7, 3, 4, 0] ]"
   ]
  },
  {
   "cell_type": "code",
   "execution_count": 33,
   "metadata": {},
   "outputs": [
    {
     "name": "stdout",
     "output_type": "stream",
     "text": [
      "Сумма элементов матрицы: 89\n",
      "Вычисление максимума из сумм элементов каждого столбца: [7, 11, 12, 13, 12]\n"
     ]
    }
   ],
   "source": [
    "sum_mat = 0 #[w for w in sequence if w % 5 == 0]\n",
    "sum_mat_withoutmax = []\n",
    "for mat in matrix:\n",
    "    sum_mat +=sum(mat)\n",
    "    sum_mat_withoutmax.append(sum(mat) - max(mat))\n",
    "print('Сумма элементов матрицы: '+str(sum_mat))\n",
    "print('Вычисление максимума из сумм элементов каждого столбца: '+str(sum_mat_withoutmax))"
   ]
  },
  {
   "cell_type": "code",
   "execution_count": 17,
   "metadata": {},
   "outputs": [
    {
     "name": "stdout",
     "output_type": "stream",
     "text": [
      "Сумма элементов матрицы: 89\n",
      "Вычисление максимума из сумм элементов каждого столбца: [7, 11, 12, 13, 12]\n"
     ]
    }
   ],
   "source": [
    "print('Сумма элементов матрицы: '+str(sum([sum_mat + sum(mat) for mat in matrix])))\n",
    "print('Вычисление максимума из сумм элементов каждого столбца: '+str([(sum(mat) - max(mat)) for mat in matrix]))"
   ]
  }
 ],
 "metadata": {
  "kernelspec": {
   "display_name": "Python 3",
   "language": "python",
   "name": "python3"
  },
  "language_info": {
   "codemirror_mode": {
    "name": "ipython",
    "version": 3
   },
   "file_extension": ".py",
   "mimetype": "text/x-python",
   "name": "python",
   "nbconvert_exporter": "python",
   "pygments_lexer": "ipython3",
   "version": "3.7.4"
  }
 },
 "nbformat": 4,
 "nbformat_minor": 2
}
